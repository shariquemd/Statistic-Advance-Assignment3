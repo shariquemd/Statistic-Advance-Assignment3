{
 "cells": [
  {
   "cell_type": "markdown",
   "id": "008d3fde",
   "metadata": {},
   "source": [
    "# Answer1"
   ]
  },
  {
   "cell_type": "code",
   "execution_count": null,
   "id": "bd7297ed",
   "metadata": {},
   "outputs": [],
   "source": [
    "Estimation statistics involves using sample data to make inferences about population parameters. A point estimate is a single value that serves as the best guess for a population parameter.\n",
    "On the other hand, an interval estimate provides a range within which the true population parameter is likely to fall."
   ]
  },
  {
   "cell_type": "markdown",
   "id": "8c9632bd",
   "metadata": {},
   "source": [
    "# Answer2"
   ]
  },
  {
   "cell_type": "code",
   "execution_count": 13,
   "id": "9a96ccec",
   "metadata": {},
   "outputs": [],
   "source": [
    "import math\n",
    "def population_mean(sample_mean,standard_deviation,size):\n",
    "    margin_error=1.96*(standard_deviation/math.sqrt(size))\n",
    "    lower_bound= sample_mean-margin_error\n",
    "    upper_bound=sample_mean+margin_error\n",
    "    return lower_bound,upper_bound\n"
   ]
  },
  {
   "cell_type": "code",
   "execution_count": 18,
   "id": "f19b8728",
   "metadata": {},
   "outputs": [
    {
     "data": {
      "text/plain": [
       "(47.56891920205152, 52.43108079794848)"
      ]
     },
     "execution_count": 18,
     "metadata": {},
     "output_type": "execute_result"
    }
   ],
   "source": [
    "population_mean(50,10,65)\n"
   ]
  },
  {
   "cell_type": "markdown",
   "id": "4785b9ec",
   "metadata": {},
   "source": [
    "# Answer3"
   ]
  },
  {
   "cell_type": "code",
   "execution_count": null,
   "id": "bc177c6b",
   "metadata": {},
   "outputs": [],
   "source": [
    "Hypothesis testing is a statistical method used to make inferences about a population based on a sample of data. It involves formulating a hypothesis about a population parameter, collecting and analyzing data, and then using statistical tests to determine the validity of the hypothesis.\n",
    "\n",
    "Hypothesis testing is used for several reasons:\n",
    "Decision Making: \n",
    "Scientific Inquiry: \n",
    "Quality Control: \n",
    "Policy and Strategy: \n",
    "    \n",
    "Importance of Hypothesis Testing:\n",
    "Objective Decision-Making: \n",
    "Control of Type I and Type II Errors: \n",
    "Scientific Rigor: \n",
    "Statistical Inference: "
   ]
  },
  {
   "cell_type": "markdown",
   "id": "1b044358",
   "metadata": {},
   "source": [
    "# Answer4"
   ]
  },
  {
   "cell_type": "code",
   "execution_count": null,
   "id": "fd1c9b41",
   "metadata": {},
   "outputs": [],
   "source": [
    "Null Hypothesis:The average weight of male college students is greater than\n",
    "the average weight of female college students.\n",
    "Alternate Hypothesis:The average weight of male college students is not greater than\n",
    "the average weight of female college students."
   ]
  },
  {
   "cell_type": "markdown",
   "id": "ac48d87e",
   "metadata": {},
   "source": [
    "# Answer5"
   ]
  },
  {
   "cell_type": "code",
   "execution_count": 24,
   "id": "dbee3b9c",
   "metadata": {},
   "outputs": [
    {
     "name": "stdout",
     "output_type": "stream",
     "text": [
      "Fail to reject the null hypothesis. There is not enough evidence to suggest a significant difference.\n"
     ]
    }
   ],
   "source": [
    "import scipy.stats as stats\n",
    "\n",
    "def two_sample_t_test(sample1, sample2, alpha=0.05):\n",
    "    # Assuming samples are independent and have equal variance\n",
    "    t_stat, p_value = stats.ttest_ind(sample1, sample2)\n",
    "\n",
    "   # Compare p-value to the significance level\n",
    "    if p_value < alpha:\n",
    "        print(\"Reject the null hypothesis. There is enough evidence to suggest a significant difference.\")\n",
    "    else:\n",
    "        print(\"Fail to reject the null hypothesis. There is not enough evidence to suggest a significant difference.\")\n",
    "\n",
    "# Example usage:\n",
    "sample1 = [25, 28, 30, 35, 40]\n",
    "sample2 = [20, 22, 25, 30, 33]\n",
    "\n",
    "two_sample_t_test(sample1, sample2)\n"
   ]
  },
  {
   "cell_type": "markdown",
   "id": "2c19c905",
   "metadata": {},
   "source": [
    "# Answer6"
   ]
  },
  {
   "cell_type": "code",
   "execution_count": null,
   "id": "835ebbab",
   "metadata": {},
   "outputs": [],
   "source": [
    "Null Hypothesis (H0): The null hypothesis is a statement of no effect or no difference. It often represents the status quo or a baseline assumption. In statistical terms, it is what we test against to determine if there is enough evidence to reject it.\n",
    "Alternative Hypothesis (H1 or Ha): The alternative hypothesis is what researchers are trying to find evidence for. It represents a statement of an effect, a difference, or a change from the status quo.\n",
    " \n",
    "Examples:\n",
    "\n",
    "Drug Efficacy:\n",
    "Null Hypothesis (H0): The new drug has no effect on patient recovery.\n",
    "Alternative Hypothesis (H1): The new drug improves patient recovery.\n",
    "Product Quality:\n",
    "\n",
    "Null Hypothesis (H0): The mean quality of Product A is equal to the mean quality of Product B.\n",
    "Alternative Hypothesis (H1): The mean quality of Product A is different from the mean quality of Product B.\n"
   ]
  },
  {
   "cell_type": "markdown",
   "id": "1691cea1",
   "metadata": {},
   "source": [
    "# Answer7"
   ]
  },
  {
   "cell_type": "code",
   "execution_count": null,
   "id": "9af07fae",
   "metadata": {},
   "outputs": [],
   "source": [
    "Null Hypothesis\n",
    "Alternate Hypothesis\n",
    "Experiments\n",
    "Accept the Null Hypothesis or Reject the Null Hypothesis"
   ]
  },
  {
   "cell_type": "markdown",
   "id": "8bf3c791",
   "metadata": {},
   "source": [
    "# Answer8"
   ]
  },
  {
   "cell_type": "code",
   "execution_count": null,
   "id": "eb624b22",
   "metadata": {},
   "outputs": [],
   "source": [
    "The p-value is the probability of observing a test statistic as extreme as, or more extreme than, the one calculated from the sample data, assuming the null hypothesis is true. In simpler terms, it indicates the strength of evidence against the null hypothesis.\n",
    "\n",
    "Small p-value (typically ≤ α):\n",
    "If the p-value is very low, it suggests that the observed data is unlikely under the assumption that the null hypothesis is true.\n",
    "This leads to rejecting the null hypothesis, indicating evidence in favor of the alternative hypothesis.\n",
    "\n",
    "Large p-value (typically > α):\n",
    "If the p-value is high, it suggests that the observed data is likely under the assumption of the null hypothesis.\n",
    "This leads to failing to reject the null hypothesis, indicating a lack of significant evidence in favor of the alternative hypothesis."
   ]
  },
  {
   "cell_type": "markdown",
   "id": "0ea940a7",
   "metadata": {},
   "source": [
    "# Answer9"
   ]
  },
  {
   "cell_type": "code",
   "execution_count": 30,
   "id": "03927321",
   "metadata": {},
   "outputs": [
    {
     "data": {
      "text/plain": [
       "Text(0, 0.5, 'Probability Density Function (PDF)')"
      ]
     },
     "execution_count": 30,
     "metadata": {},
     "output_type": "execute_result"
    },
    {
     "data": {
      "image/png": "[encoded data removed]",
      "text/plain": [
       "<Figure size 640x480 with 1 Axes>"
      ]
     },
     "metadata": {},
     "output_type": "display_data"
    }
   ],
   "source": [
    "import numpy as np\n",
    "import matplotlib.pyplot as plt\n",
    "from scipy.stats import t\n",
    "\n",
    "# Set degrees of freedom\n",
    "degrees_of_freedom = 10\n",
    "\n",
    "# Generate values for x (range of values)\n",
    "x = np.linspace(-4, 4, 1000)\n",
    "\n",
    "# Calculate the probability density function (PDF) for each value of x\n",
    "pdf_values = t.pdf(x,df=degrees_of_freedom)\n",
    "\n",
    "# Plot the t-distribution\n",
    "plt.plot(x, pdf_values, label=f't-distribution (df={degrees_of_freedom})')\n",
    "\n",
    "plt.title(\"Student's t-Distribution\")\n",
    "plt.xlabel('x')\n",
    "plt.ylabel('Probability Density Function (PDF)')\n",
    "\n"
   ]
  },
  {
   "cell_type": "markdown",
   "id": "70eace88",
   "metadata": {},
   "source": [
    "# Answer10"
   ]
  },
  {
   "cell_type": "code",
   "execution_count": null,
   "id": "bfcc7fd6",
   "metadata": {},
   "outputs": [],
   "source": []
  },
  {
   "cell_type": "markdown",
   "id": "fe394355",
   "metadata": {},
   "source": [
    "# Answer11"
   ]
  },
  {
   "cell_type": "code",
   "execution_count": null,
   "id": "b816eb0b",
   "metadata": {},
   "outputs": [],
   "source": [
    "The Student's t-distribution (or t-distribution) is a probability distribution that arises in hypothesis testing when the sample size is small, and the population standard deviation is unknown. It is used in situations where the assumptions of normality or a known population standard deviation are not met.\n",
    "\n",
    "The t-distribution is commonly used in the following scenarios:\n",
    "Small Sample Sizes:\n",
    "Estimation of Population Mean:\n",
    "Comparing Means:\n",
    "Confidence Intervals:\n",
    "T-Tests:\n"
   ]
  },
  {
   "cell_type": "markdown",
   "id": "355b48fc",
   "metadata": {},
   "source": [
    "# Answer12"
   ]
  },
  {
   "cell_type": "code",
   "execution_count": null,
   "id": "7ef8ec28",
   "metadata": {},
   "outputs": [],
   "source": [
    "The t-statistic is a measure that quantifies the difference between the sample mean and the population mean in terms of the standard error. It is often used in hypothesis testing and is crucial when the sample size is small and the population standard deviation is unknown.\n",
    "For a one-sample t-test, the formula for the t-statistic is:\n",
    "t=(sample mean-population mean under the null hypothesis)/(sample standard deviation/sqrt(n))\n",
    "\n"
   ]
  },
  {
   "cell_type": "markdown",
   "id": "67853616",
   "metadata": {},
   "source": [
    "# Answer13"
   ]
  },
  {
   "cell_type": "code",
   "execution_count": null,
   "id": "4c469ba0",
   "metadata": {},
   "outputs": [],
   "source": [
    "Confidence Interval=500±1.96( 50/sqrt(50))\n",
    "Confidence Interval≈500±1.96×7.07\n",
    "Confidence Interval≈500±13.86\n",
    "\n",
    "So, the 95% confidence interval for the average daily revenue is approximately \n",
    "$486.14 to $513.86. Therefore, we can say with 95% confidence that the true average daily revenue for the coffee shop is likely to fall within this interval."
   ]
  },
  {
   "cell_type": "markdown",
   "id": "6c04054a",
   "metadata": {},
   "source": [
    "# Answer14"
   ]
  },
  {
   "cell_type": "code",
   "execution_count": 38,
   "id": "a3b89e2f",
   "metadata": {},
   "outputs": [],
   "source": [
    "t_statistic = (sample_mean - hypothesized_mean) / (sample_std_dev / np.sqrt(sample_size))\n",
    "ans=-2/0.3\n",
    "ans=-6.666666666666667\n",
    "critical_value_left=-1.9842169515086832\n",
    "critical_value_right=1.9842169515086832\n",
    "Reject the null hypothesis. There is enough evidence to suggest a significant difference."
   ]
  },
  {
   "cell_type": "markdown",
   "id": "a05db4ed",
   "metadata": {},
   "source": [
    "# Answer15"
   ]
  },
  {
   "cell_type": "code",
   "execution_count": 1,
   "id": "99f78f67",
   "metadata": {},
   "outputs": [
    {
     "name": "stdout",
     "output_type": "stream",
     "text": [
      "Fail to reject the null hypothesis. There is not enough evidence to suggest a significant difference.\n",
      "P-Value: 0.02846992496829572\n"
     ]
    }
   ],
   "source": [
    "import numpy as np\n",
    "from scipy.stats import t\n",
    "\n",
    "# Given data\n",
    "sample_mean = 4.8\n",
    "hypothesized_mean = 5\n",
    "sample_std_dev = 0.5\n",
    "sample_size = 25\n",
    "alpha = 0.01\n",
    "\n",
    "# Calculate the t-statistic\n",
    "t_statistic = (sample_mean - hypothesized_mean) / (sample_std_dev / np.sqrt(sample_size))\n",
    "\n",
    "# Degrees of freedom for a one-sample t-test\n",
    "degrees_of_freedom = sample_size - 1\n",
    "\n",
    "# Calculate critical value for a one-tailed test\n",
    "critical_value = t.ppf(alpha, df=degrees_of_freedom)\n",
    "\n",
    "# Compare the t-statistic to the critical value\n",
    "if t_statistic < critical_value:\n",
    "    print(\"Reject the null hypothesis. There is enough evidence to suggest a significant difference.\")\n",
    "else:\n",
    "    print(\"Fail to reject the null hypothesis. There is not enough evidence to suggest a significant difference.\")\n",
    "\n",
    "# Alternatively, you can calculate the p-value\n",
    "p_value = t.cdf(t_statistic, df=degrees_of_freedom)\n",
    "print(f\"P-Value: {p_value}\")\n"
   ]
  },
  {
   "cell_type": "markdown",
   "id": "52550f0f",
   "metadata": {},
   "source": [
    "# Answer16"
   ]
  },
  {
   "cell_type": "code",
   "execution_count": 3,
   "id": "87a34522",
   "metadata": {},
   "outputs": [
    {
     "name": "stdout",
     "output_type": "stream",
     "text": [
      "Fail to reject the null hypothesis. There is not enough evidence to suggest a significant difference.\n",
      "P-Value: 0.027613480367697507\n"
     ]
    }
   ],
   "source": [
    "import numpy as np\n",
    "from scipy.stats import t\n",
    "\n",
    "# Given data for Group 1\n",
    "mean_group1 = 80\n",
    "std_dev_group1 = 10\n",
    "sample_size_group1 = 30\n",
    "\n",
    "# Given data for Group 2\n",
    "mean_group2 = 75\n",
    "std_dev_group2 = 8\n",
    "sample_size_group2 = 40\n",
    "\n",
    "# Significance level\n",
    "alpha = 0.01\n",
    "\n",
    "# Calculate the t-statistic\n",
    "numerator = mean_group1 - mean_group2\n",
    "denominator = np.sqrt((std_dev_group1**2 / sample_size_group1) + (std_dev_group2**2 / sample_size_group2))\n",
    "t_statistic = numerator / denominator\n",
    "\n",
    "# Degrees of freedom for a two-sample t-test\n",
    "degrees_of_freedom = sample_size_group1 + sample_size_group2 - 2\n",
    "\n",
    "# Calculate critical values for a two-tailed test\n",
    "critical_value_left = t.ppf(alpha / 2, df=degrees_of_freedom)\n",
    "critical_value_right = t.ppf(1 - alpha / 2, df=degrees_of_freedom)\n",
    "\n",
    "# Compare the t-statistic to critical values\n",
    "if t_statistic < critical_value_left or t_statistic > critical_value_right:\n",
    "    print(\"Reject the null hypothesis. There is enough evidence to suggest a significant difference.\")\n",
    "else:\n",
    "    print(\"Fail to reject the null hypothesis. There is not enough evidence to suggest a significant difference.\")\n",
    "\n",
    "# Alternatively, you can calculate the p-value\n",
    "p_value = 2 * (1 - t.cdf(abs(t_statistic), df=degrees_of_freedom))\n",
    "print(f\"P-Value: {p_value}\")\n"
   ]
  },
  {
   "cell_type": "markdown",
   "id": "ef68a3bd",
   "metadata": {},
   "source": [
    "# Answer17"
   ]
  },
  {
   "cell_type": "code",
   "execution_count": 2,
   "id": "4d514c02",
   "metadata": {},
   "outputs": [
    {
     "name": "stdout",
     "output_type": "stream",
     "text": [
      "99% Confidence Interval: (3.4535840896844654, 4.546415910315535)\n"
     ]
    }
   ],
   "source": [
    "import numpy as np\n",
    "from scipy.stats import norm\n",
    "\n",
    "# Given data\n",
    "sample_mean = 4\n",
    "sample_std_dev = 1.5\n",
    "sample_size = 50\n",
    "confidence_level = 0.99\n",
    "\n",
    "# Calculate the critical value for a two-tailed test\n",
    "critical_value = norm.ppf((1 + confidence_level) / 2)\n",
    "\n",
    "# Calculate the margin of error\n",
    "margin_of_error = critical_value * (sample_std_dev / np.sqrt(sample_size))\n",
    "\n",
    "# Calculate the confidence interval\n",
    "lower_bound = sample_mean - margin_of_error\n",
    "upper_bound = sample_mean + margin_of_error\n",
    "\n",
    "# Print the results\n",
    "print(f\"99% Confidence Interval: ({lower_bound}, {upper_bound})\")\n"
   ]
  },
  {
   "cell_type": "code",
   "execution_count": null,
   "id": "4c7f0605",
   "metadata": {},
   "outputs": [],
   "source": []
  }
 ],
 "metadata": {
  "kernelspec": {
   "display_name": "Python 3 (ipykernel)",
   "language": "python",
   "name": "python3"
  },
  "language_info": {
   "codemirror_mode": {
    "name": "ipython",
    "version": 3
   },
   "file_extension": ".py",
   "mimetype": "text/x-python",
   "name": "python",
   "nbconvert_exporter": "python",
   "pygments_lexer": "ipython3",
   "version": "3.11.4"
  }
 },
 "nbformat": 4,
 "nbformat_minor": 5
}
